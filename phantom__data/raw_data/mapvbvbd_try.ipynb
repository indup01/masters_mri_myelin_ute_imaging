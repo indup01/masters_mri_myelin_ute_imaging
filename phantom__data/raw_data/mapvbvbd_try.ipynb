{
 "cells": [
  {
   "cell_type": "code",
   "execution_count": 4,
   "id": "573f6fcb-38af-4d75-8cbc-dc8521a65ba8",
   "metadata": {},
   "outputs": [],
   "source": [
    "clear all\n",
    "clc\n"
   ]
  },
  {
   "cell_type": "code",
   "execution_count": 5,
   "id": "7037da63-9c62-4f18-83d1-2ecc72925874",
   "metadata": {},
   "outputs": [],
   "source": [
    "cd('/rds/general/user/ip620/home/mri_fyp/phantom/data')"
   ]
  },
  {
   "cell_type": "code",
   "execution_count": 6,
   "id": "a426bb01-3012-4aa0-a169-4c2214ef8b96",
   "metadata": {},
   "outputs": [
    {
     "data": {
      "text/html": [
       "<html><body><pre>ans = '/rds/general/user/ip620/home/mri_fyp/phantom/data'</pre></body></html>"
      ],
      "text/plain": [
       "ans = '/rds/general/user/ip620/home/mri_fyp/phantom/data'"
      ]
     },
     "execution_count": 6,
     "metadata": {},
     "output_type": "execute_result"
    }
   ],
   "source": [
    "pwd"
   ]
  },
  {
   "cell_type": "code",
   "execution_count": 7,
   "id": "6c9652b0-e50c-4527-bc15-265c4fed0679",
   "metadata": {},
   "outputs": [
    {
     "name": "stdout",
     "output_type": "stream",
     "text": [
      "Software version: VB (!?)\n",
      "Read raw data correction factors\n"
     ]
    },
    {
     "name": "stderr",
     "output_type": "stream",
     "text": [
      "Error using fgets\n",
      "Invalid file identifier. Use fopen to generate a valid file identifier.\n",
      "\n",
      "Error in fgetl (line 32)\n",
      "[tline,lt] = fgets(fid);\n",
      "\n",
      "Error in twix_map_obj/get.readerVersion (line 806)\n",
      "        versiontime = uint64(str2double(fgetl(fid)));\n",
      "\n",
      "Error in indexing (line 416)\n",
      "                    [varargout{:}] = builtin('subsref', this, S);\n",
      "\n",
      "Error in mapVBVD (line 398)\n",
      "        fprintf('Reader version: %d', twix_obj{s}.image.readerVersion);"
     ]
    }
   ],
   "source": [
    "addpath(genpath('mri_fyp/phantom/data/'));\n",
    "%%\n",
    "%% Load raw data\n",
    "twix_344=mapVBVD(344);"
   ]
  },
  {
   "cell_type": "code",
   "execution_count": 3,
   "id": "5a144ac9-6789-47c7-93a9-12faa17e787b",
   "metadata": {},
   "outputs": [
    {
     "data": {
      "text/html": [
       "<html><body><pre>ans = '/rds/general/user/ip620/home'</pre></body></html>"
      ],
      "text/plain": [
       "ans = '/rds/general/user/ip620/home'"
      ]
     },
     "execution_count": 3,
     "metadata": {},
     "output_type": "execute_result"
    }
   ],
   "source": [
    "pwd"
   ]
  },
  {
   "cell_type": "code",
   "execution_count": null,
   "id": "9e8cae49-7493-4854-a958-e562278070eb",
   "metadata": {},
   "outputs": [],
   "source": []
  }
 ],
 "metadata": {
  "kernelspec": {
   "display_name": "MATLAB Kernel",
   "language": "matlab",
   "name": "jupyter_matlab_kernel"
  },
  "language_info": {
   "file_extension": ".m",
   "mimetype": "text/x-matlab",
   "name": "matlab"
  }
 },
 "nbformat": 4,
 "nbformat_minor": 5
}
