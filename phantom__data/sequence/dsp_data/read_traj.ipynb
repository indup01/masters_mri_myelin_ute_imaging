{
 "cells": [
  {
   "cell_type": "code",
   "execution_count": 1,
   "id": "b27a7972-bc51-4b60-bca1-29f7d694909f",
   "metadata": {},
   "outputs": [
    {
     "data": {
      "text/html": [
       "<html><body><pre>ans = '/rds/general/user/ip620/home/mri_fyp/phantom'</pre></body></html>"
      ],
      "text/plain": [
       "ans = '/rds/general/user/ip620/home/mri_fyp/phantom'"
      ]
     },
     "execution_count": 1,
     "metadata": {},
     "output_type": "execute_result"
    }
   ],
   "source": [
    "close all; clearvars; clc\n",
    "cd('/rds/general/user/ip620/home/mri_fyp/phantom')\n",
    "\n",
    "addpath('./dsv-reader/') % add reader function\n",
    "addpath ('/') % dsv file dir\n",
    "pwd"
   ]
  },
  {
   "cell_type": "code",
   "execution_count": 2,
   "id": "0dff3c92-53fc-4f32-9003-61e90599674d",
   "metadata": {},
   "outputs": [
    {
     "name": "stderr",
     "output_type": "stream",
     "text": [
      "Error connecting to MATLAB. Check the status of MATLAB by clicking the \"Open MATLAB\" button. Retry after ensuring MATLAB is running successfully"
     ]
    }
   ],
   "source": [
    "%% Load dsv files\n",
    "\n",
    "protocol = 'DspData'; %3D Cone simulation\n",
    "\n",
    "GRX_file = [protocol,'_GRX.dsv'];\n",
    "GRY_file = [protocol,'_GRY.dsv'];\n",
    "GRZ_file = [protocol,'_GRZ.dsv'];\n",
    "ADC_file = [protocol,'_ADC.dsv'];\n",
    "RFD_file = [protocol,'_RFD.dsv'];\n",
    "\n",
    "disp('Reading GRX:');\n",
    "GRX = dsvread(GRX_file);\n",
    "disp('Reading GRY:');\n",
    "GRY = dsvread(GRY_file);\n",
    "disp('Reading GRZ:');\n",
    "GRZ = dsvread(GRZ_file);\n",
    "disp('Reading ADC:');\n",
    "ADC = dsvread(ADC_file);\n",
    "disp('Reading RFD:');\n",
    "RFD = dsvread(RFD_file);\n"
   ]
  },
  {
   "cell_type": "code",
   "execution_count": null,
   "id": "672d987c-45b6-4f4a-93d0-3b1d73018eb4",
   "metadata": {},
   "outputs": [],
   "source": []
  }
 ],
 "metadata": {
  "kernelspec": {
   "display_name": "MATLAB Kernel",
   "language": "matlab",
   "name": "jupyter_matlab_kernel"
  },
  "language_info": {
   "file_extension": ".m",
   "mimetype": "text/x-matlab",
   "name": "matlab"
  }
 },
 "nbformat": 4,
 "nbformat_minor": 5
}
