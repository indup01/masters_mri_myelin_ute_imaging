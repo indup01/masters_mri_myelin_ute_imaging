{
 "cells": [
  {
   "cell_type": "code",
   "execution_count": 2,
   "id": "c7f2eccb-04c8-41e4-af38-43bf8ff0f4f7",
   "metadata": {},
   "outputs": [
    {
     "data": {
      "text/html": [
       "<html><body><pre>ans = '/rds/general/user/ip620/home'</pre></body></html>"
      ],
      "text/plain": [
       "ans = '/rds/general/user/ip620/home'"
      ]
     },
     "execution_count": 2,
     "metadata": {},
     "output_type": "execute_result"
    }
   ],
   "source": [
    "clear\n",
    "clc\n",
    "pwd"
   ]
  },
  {
   "cell_type": "code",
   "execution_count": 4,
   "id": "8f275a1f-4401-4ad7-85ab-50aac4adb2e5",
   "metadata": {},
   "outputs": [],
   "source": [
    "one = load(\"/rds/general/user/ip620/home/mri_fyp/brain/sequence/resultImage_TE47us_TI360ms.mat\");\n",
    "two = load(\"/rds/general/user/ip620/home/mri_fyp/brain/sequence/resultImage_TE800us_TI360ms.mat\");\n",
    "three = load(\"/rds/general/user/ip620/home/mri_fyp/brain/sequence/resultImage_TE1750us_TI360ms.mat\");\n",
    "four = load(\"/rds/general/user/ip620/home/mri_fyp/brain/sequence/resultImage_TE1750us_TI350ms.mat\");\n",
    "five = load(\"/rds/general/user/ip620/home/mri_fyp/brain/sequence/resultImage_TE1750us_TI370ms.mat\");\n",
    "six = load(\"/rds/general/user/ip620/home/mri_fyp/brain/sequence/resultImage_TE1750us_TI380ms.mat\");\n",
    "\n",
    "%%\n",
    "% Assuming the variable containing the 3D image data is named 'resultImage' in each file\n",
    "images = {one.resultImage, two.resultImage, three.resultImage, four.resultImage, five.resultImage, six.resultImage};"
   ]
  },
  {
   "cell_type": "code",
   "execution_count": 7,
   "id": "805348b0-ad50-443b-b776-9e16f3c1ccdc",
   "metadata": {},
   "outputs": [
    {
     "data": {
      "text/html": [
       "<html><body><pre>three_avg = 8.8551e-05</pre></body></html>"
      ],
      "text/plain": [
       "three_avg = 8.8551e-05"
      ]
     },
     "execution_count": 7,
     "metadata": {},
     "output_type": "execute_result"
    },
    {
     "data": {
      "text/html": [
       "<html><body><pre>four_avg = 8.3179e-05</pre></body></html>"
      ],
      "text/plain": [
       "four_avg = 8.3179e-05"
      ]
     },
     "execution_count": 7,
     "metadata": {},
     "output_type": "execute_result"
    },
    {
     "data": {
      "text/html": [
       "<html><body><pre>five_avg = 9.2801e-05</pre></body></html>"
      ],
      "text/plain": [
       "five_avg = 9.2801e-05"
      ]
     },
     "execution_count": 7,
     "metadata": {},
     "output_type": "execute_result"
    },
    {
     "data": {
      "text/html": [
       "<html><body><pre>six_avg = 9.7478e-05</pre></body></html>"
      ],
      "text/plain": [
       "six_avg = 9.7478e-05"
      ]
     },
     "execution_count": 7,
     "metadata": {},
     "output_type": "execute_result"
    }
   ],
   "source": [
    "three_avg = mean(images{3},'all')\n",
    "four_avg = mean(images{4},'all')\n",
    "five_avg = mean(images{5},'all')\n",
    "six_avg = mean(images{6},'all')"
   ]
  },
  {
   "cell_type": "code",
   "execution_count": null,
   "id": "7eb4e7bd-8184-4455-a407-1fc0b68edb33",
   "metadata": {},
   "outputs": [],
   "source": []
  }
 ],
 "metadata": {
  "kernelspec": {
   "display_name": "MATLAB Kernel",
   "language": "matlab",
   "name": "jupyter_matlab_kernel"
  },
  "language_info": {
   "file_extension": ".m",
   "mimetype": "text/x-matlab",
   "name": "matlab"
  }
 },
 "nbformat": 4,
 "nbformat_minor": 5
}
