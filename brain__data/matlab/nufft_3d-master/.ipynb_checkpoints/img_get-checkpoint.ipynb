{
 "cells": [
  {
   "cell_type": "code",
   "execution_count": 6,
   "id": "46a23021-9b1e-45da-b748-875d7f8e9387",
   "metadata": {},
   "outputs": [],
   "source": [
    "clear all\n",
    "clc"
   ]
  },
  {
   "cell_type": "code",
   "execution_count": 7,
   "id": "3b8aca4a-1e3a-4acb-baff-93ab27f39f98",
   "metadata": {},
   "outputs": [
    {
     "name": "stderr",
     "output_type": "stream",
     "text": [
      "Error using cd\n",
      "Unable to change current folder to '/rds/general/user/ip620/home/mri_fyp/brain/sequence/matlab/nufft_3d-master/mri_fyp/brain/sequence/matlab/nufft_3d-master' (Name is nonexistent or not a folder)."
     ]
    }
   ],
   "source": [
    "cd('mri_fyp/brain/sequence/matlab/nufft_3d-master')\n",
    "pwd"
   ]
  },
  {
   "cell_type": "code",
   "execution_count": 8,
   "id": "e34de674-e224-4273-a6d0-b8f268af4821",
   "metadata": {},
   "outputs": [
    {
     "data": {
      "text/html": [
       "<html><body><pre>om = struct with fields:\n",
       "    om: [3x224x28952 double]\n",
       "</pre></body></html>"
      ],
      "text/plain": [
       "om = struct with fields:\n",
       "    om: [3x224x28952 double]\n"
      ]
     },
     "execution_count": 8,
     "metadata": {},
     "output_type": "execute_result"
    }
   ],
   "source": [
    "om = load('/rds/general/user/ip620/home/mri_fyp/brain/sequence/om.mat')\n",
    "data_f = \"/rds/general/user/ip620/home/mri_fyp/brain/sequence/images_matlab\";\n",
    "subfolder = { ...\n",
    "    'TE47us_TI360ms', ...\n",
    "    'TE800us_TI360ms', ...\n",
    "    'TE1750us_TI360ms', ...\n",
    "    'TE1750us_TI370ms', ...\n",
    "    'TE1750us_TI380ms', ...\n",
    "    'TE1750us_TI350ms' ...\n",
    "};\n",
    "N = 96;\n",
    "om = om.om;"
   ]
  },
  {
   "cell_type": "code",
   "execution_count": 9,
   "id": "4cd78b5b-7f06-43ac-8749-6afe0aa93f47",
   "metadata": {},
   "outputs": [
    {
     "name": "stderr",
     "output_type": "stream",
     "text": [
      "Error connecting to MATLAB. Check the status of MATLAB by clicking the \"Open MATLAB\" button. Retry after ensuring MATLAB is running successfully"
     ]
    }
   ],
   "source": [
    "for i = 1:length(subfolder)\n",
    "current_subfolder = subfolder{i};\n",
    "for x = 1:32\n",
    " file_path = fullfile('/rds/general/user/ip620/home/mri_fyp/brain/sequence/coil_data', current_subfolder, sprintf('coil_%d.mat', x));\n",
    " flattened_data = load(file_path);\n",
    "%% create nufft object (gpu=0 CPU, gpu=1 gpuSparse, gpu=2 gpuArray)\n",
    "\n",
    "obj = nufft_3d(om,N,'gpu',1);\n",
    "\n",
    "%% generate data (forward transform)\n",
    "data = flattened_data.flattened_data;\n",
    "im0 = obj.iNUFT(data,1);\n",
    "\n",
    "% Create the main folder and subfolder if they don't exist\n",
    "folder_path = fullfile(data_f, current_subfolder);\n",
    "if ~exist(folder_path, 'dir')\n",
    "    mkdir(folder_path);\n",
    "end\n",
    "\n",
    "% Reshape the array\n",
    "reshaped = reshape(im0, [], N);\n",
    "\n",
    "% File path with a dynamic name (x can be any number)\n",
    "file_path = fullfile(folder_path, sprintf('imagesharp%d.txt', x));\n",
    "\n",
    "% Open the file for writing\n",
    "fileID = fopen(file_path, 'w');\n",
    "\n",
    "% Iterate over each element of the reshaped array\n",
    "for y = 1:numel(reshaped)\n",
    "    % Extract real and imaginary parts\n",
    "    realPart = real(reshaped(y));\n",
    "    imagPart = imag(reshaped(y));\n",
    "\n",
    "    % Format the complex number and write it to the file\n",
    "    % fprintf(fileID, '(% .6f%+ .6fj) ', realPart, imagPart);\n",
    "    fprintf(fileID, '(% .6f%+ .6fj)\\n', realPart, imagPart);\n",
    "    \n",
    "    % Add a newline if needed (e.g., after a certain number of columns)\n",
    "    % if mod(y, N) == 0\n",
    "    %     fprintf(fileID, '\\n');  % Start a new line after N elements\n",
    "    % end\n",
    "end\n",
    "\n",
    "% Close the file\n",
    "fclose(fileID);\n",
    "\n",
    "% Display confirmation message\n",
    "disp(['Data saved to ', file_path]);\n",
    "\n",
    "% % Save the reshaped data to the text file with 6 decimal precision\n",
    "% dlmwrite(file_path, reshaped, 'precision', '%.6f');\n",
    "\n",
    "disp(['Data saved to ', file_path]);\n",
    "end\n",
    "end"
   ]
  },
  {
   "cell_type": "code",
   "execution_count": 12,
   "id": "0c9b2175-7c5a-4cff-834d-ff7811aa4d38",
   "metadata": {},
   "outputs": [
    {
     "name": "stderr",
     "output_type": "stream",
     "text": [
      "Error connecting to MATLAB. Check the status of MATLAB by clicking the \"Open MATLAB\" button. Retry after ensuring MATLAB is running successfully"
     ]
    }
   ],
   "source": [
    "% data_f = \"Z:\\home\\mri_fyp\\brain\\sequence\\images_matlab\";\n",
    "data_f = \"/rds/general/user/ip620/home/mri_fyp/brain/sequence/images_matlab\";\n",
    "subfolder = { ...\n",
    "    'TE47us_TI360ms', ...\n",
    "    'TE800us_TI360ms', ...\n",
    "    'TE1750us_TI360ms', ...\n",
    "    'TE1750us_TI370ms', ...\n",
    "    'TE1750us_TI380ms', ...\n",
    "    'TE1750us_TI350ms' ...\n",
    "};\n",
    "\n",
    "for x = 1:length(subfolder)\n",
    "current_subfolder = subfolder{x};\n",
    "% Folder path (use absolute path if needed)\n",
    "folderPath = fullfile(data_f, current_subfolder);\n",
    "\n",
    "% Field of view (image dimensions)\n",
    "fov = 96;\n",
    "\n",
    "% Initialize sum of squares as a 3D array of zeros\n",
    "sumOfSquares = zeros(fov, fov, fov);\n",
    "\n",
    "% Loop through each image file\n",
    "for i = 1:32\n",
    "    % Construct file name\n",
    "    fileName = fullfile(folderPath, sprintf('imagesharp%d.txt', i));\n",
    "    fprintf('Processing file: %s\\n', fileName);  % Debugging line to show file name\n",
    "\n",
    "    % Open the file for reading\n",
    "    fileID = fopen(fileName, 'r');\n",
    "    if fileID == -1\n",
    "        error('Could not open file: %s', fileName);\n",
    "    end\n",
    "    \n",
    "    % Read the entire file as strings\n",
    "    data = textscan(fileID, '%s', 'Delimiter', '\\n');\n",
    "    fclose(fileID);\n",
    "    \n",
    "    % Extract the complex numbers from the strings\n",
    "    complexData = [];\n",
    "    for idx = 1:length(data{1})\n",
    "        line = strtrim(data{1}{idx});  % Trim whitespace\n",
    "        % Use a more flexible pattern to capture the real and imaginary parts\n",
    "        parsed = sscanf(line, '(%f%fi)');\n",
    "        if numel(parsed) == 2  % Ensure we got both real and imaginary parts\n",
    "            complexData = [complexData; parsed'];\n",
    "        else\n",
    "            fprintf('Skipped malformed line %d: %s\\n', idx, line);\n",
    "        end\n",
    "    end\n",
    "    \n",
    "    % Check the number of elements read\n",
    "    fprintf('Number of complex numbers read: %d\\n', size(complexData, 1));\n",
    "    \n",
    "    % Combine real and imaginary parts to form complex numbers\n",
    "    realParts = complexData(:, 1);  % Real parts\n",
    "    imagParts = complexData(:, 2);  % Imaginary parts\n",
    "    img = complex(realParts, imagParts);\n",
    "\n",
    "    size(img)\n",
    "    \n",
    "    % Check if the number of elements is correct\n",
    "    if numel(img) ~= fov^3\n",
    "        error('Incorrect number of elements in file %s: expected %d, got %d', fileName, fov^3, numel(img));\n",
    "    end\n",
    "    \n",
    "    % Reshape the data back to 3D (96x96x96)\n",
    "    img = reshape(img, [fov, fov, fov]);\n",
    "\n",
    "    % Sum the square of the image elements (voxel-wise)\n",
    "    sumOfSquares = sumOfSquares + abs(img).^2;\n",
    "end\n",
    "\n",
    "% Take the square root of the sum at each voxel to get the final image\n",
    "resultImage = sqrt(sumOfSquares);\n",
    "\n",
    "% Display the result (slice through the middle as an example)\n",
    "figure;\n",
    "slice(double(resultImage), fov/2, fov/2, fov/2);\n",
    "title('Square Root of Sum of Squared Images');\n",
    "xlabel('X'); ylabel('Y'); zlabel('Z');\n",
    "colorbar;\n",
    "\n",
    "% Optionally save the result as a .mat file or image file\n",
    "save(sprintf('resultImage_%s.mat', current_subfolder), 'resultImage');\n",
    "\n",
    "end"
   ]
  },
  {
   "cell_type": "code",
   "execution_count": null,
   "id": "c1a20947-eafd-45f4-b3d1-5cb79a17793f",
   "metadata": {},
   "outputs": [],
   "source": [
    "mid = floor(size(im0,3)/2)+1;\n",
    "mid = 25;\n",
    "im_test1 = squeeze(abs(im0(mid,:,:)));\n",
    "im_test2 = squeeze(abs(im0(:,mid,:)));\n",
    "im_test3 = squeeze(abs(im0(:,:,mid)));\n",
    "subplot(2,2,1); imagesc(im_test1);colormap gray; colorbar; title('regridding');\n",
    "subplot(2,2,2); imagesc(im_test2);colormap gray; colorbar; title('regridding');\n",
    "subplot(2,2,3); imagesc(im_test3);colormap gray; colorbar; title('regridding');\n"
   ]
  },
  {
   "cell_type": "code",
   "execution_count": null,
   "id": "d31ad163-b757-45e7-b377-ab5820563462",
   "metadata": {},
   "outputs": [],
   "source": [
    "volshow(abs(im0))"
   ]
  },
  {
   "cell_type": "code",
   "execution_count": null,
   "id": "52288884-edb7-4ab9-974e-1d9df4f93e63",
   "metadata": {},
   "outputs": [],
   "source": []
  }
 ],
 "metadata": {
  "kernelspec": {
   "display_name": "MATLAB Kernel",
   "language": "matlab",
   "name": "jupyter_matlab_kernel"
  },
  "language_info": {
   "file_extension": ".m",
   "mimetype": "text/x-matlab",
   "name": "matlab"
  }
 },
 "nbformat": 4,
 "nbformat_minor": 5
}
