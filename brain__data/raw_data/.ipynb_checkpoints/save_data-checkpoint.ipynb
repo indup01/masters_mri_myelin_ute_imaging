{
 "cells": [
  {
   "cell_type": "code",
   "execution_count": 8,
   "id": "1d7cf0cc-7940-4930-a802-fe1d8dab101f",
   "metadata": {},
   "outputs": [
    {
     "name": "stdout",
     "output_type": "stream",
     "text": [
      "Software version: VB (!?)\n",
      "Read raw data correction factors\n",
      "Reader version: 1496740353 (UTC: 06-Jun-2017 09:12:33)\n",
      "Scan 1/1, read all mdhs:\n",
      "  1696.8 MB read in    3 s\n",
      "Software version: VB (!?)\n",
      "Read raw data correction factors\n",
      "Reader version: 1496740353 (UTC: 06-Jun-2017 09:12:33)\n",
      "Scan 1/1, read all mdhs:\n",
      "  1696.8 MB read in    3 s\n"
     ]
    }
   ],
   "source": [
    "clear all\n",
    "clc\n",
    "addpath(genpath('./external'));\n",
    "% %% Load raw data\n",
    "% twix_284=mapVBVD(284);\n",
    "twix_287=mapVBVD(287);\n",
    "% twix_290=mapVBVD(290);\n",
    "% twix_293=mapVBVD(293);\n",
    "twix_296=mapVBVD(296);\n",
    "% twix_299=mapVBVD(299);\n",
    "% %% get dimensions and signals\n",
    "% raw_data_MID284=twix_284.image.unsorted(); % no slicing supported atm\n",
    "raw_data_MID287=twix_287.image.unsorted(); % no slicing supported atm\n",
    "% raw_data_MID290=twix_290.image.unsorted(); % no slicing supported atm\n",
    "% raw_data_MID293=twix_293.image.unsorted(); % no slicing supported atm\n",
    "raw_data_MID296=twix_296.image.unsorted(); % no slicing supported atm\n",
    "% raw_data_MID299=twix_299.image.unsorted(); % no slicing supported atm\n",
    "\n",
    "% %%\n",
    "% save('raw_data_MID284_TE47us_TI360ms.mat', 'raw_data_MID284');\n",
    "save('raw_data_MID287_TE800us_TI360ms.mat', 'raw_data_MID287');\n",
    "% save('raw_data_MID290_TE1750us_TI360ms.mat', 'raw_data_MID290');\n",
    "% save('raw_data_MID293_TE1750us_TI370ms.mat', 'raw_data_MID293');\n",
    "save('raw_data_MID296_TE1750us_TI380ms.mat', 'raw_data_MID296');\n",
    "% save('raw_data_MID299_TE1750us_TI350ms.mat', 'raw_data_MID299');"
   ]
  },
  {
   "cell_type": "code",
   "execution_count": 4,
   "id": "c66acb91-80e9-464e-baaf-3f3d3018d864",
   "metadata": {},
   "outputs": [
    {
     "data": {
      "text/html": [
       "<html><body><pre>ans = '/rds/general/user/ip620/home/mri_fyp/brain/raw_data'</pre></body></html>"
      ],
      "text/plain": [
       "ans = '/rds/general/user/ip620/home/mri_fyp/brain/raw_data'"
      ]
     },
     "execution_count": 4,
     "metadata": {},
     "output_type": "execute_result"
    }
   ],
   "source": [
    "cd('mri_fyp/brain/raw_data')\n",
    "pwd"
   ]
  },
  {
   "cell_type": "code",
   "execution_count": 11,
   "id": "6a375d48-b8b6-4250-a940-e1a6ee5b73f6",
   "metadata": {},
   "outputs": [],
   "source": [
    "% load(\"Z:\\home\\mri_fyp\\brain\\raw_data\\raw_data_MID287_TE800us_TI360ms.mat\")\n",
    "load(\"/rds/general/user/ip620/home/mri_fyp/brain/raw_data/raw_data_MID287_TE800us_TI360ms.mat\")\n",
    "num_elements = 32;\n",
    "for c = 1:num_elements\n",
    "first_column_elements = raw_data_MID287(:, c, :);\n",
    "first_column_elements = squeeze(first_column_elements);\n",
    "flattened_data = reshape(first_column_elements, 1,[]);\n",
    "save_folder = '/rds/general/user/ip620/home/mri_fyp/brain/sequence/coil_data/TE800us_TI360ms';\n",
    "% save_folder = 'Z:\\home\\mri_fyp\\brain\\sequence\\coil_data\\TE800us_TI360ms';\n",
    "filename = fullfile(save_folder, sprintf('coil_%d.mat', c));\n",
    "save(filename, 'flattened_data');\n",
    "end\n",
    "clear"
   ]
  },
  {
   "cell_type": "code",
   "execution_count": 12,
   "id": "9ae94069-972c-43ff-b7ec-633389b4b91f",
   "metadata": {},
   "outputs": [
    {
     "data": {
      "text/html": [
       "<html><body><pre>ans = 1x3 double\n",
       "         224           1       28952\n",
       "</pre></body></html>"
      ],
      "text/plain": [
       "ans = 1x3 double\n",
       "         224           1       28952\n"
      ]
     },
     "execution_count": 12,
     "metadata": {},
     "output_type": "execute_result"
    },
    {
     "data": {
      "text/html": [
       "<html><body><pre>ans = 1x2 double\n",
       "         224       28952\n",
       "</pre></body></html>"
      ],
      "text/plain": [
       "ans = 1x2 double\n",
       "         224       28952\n"
      ]
     },
     "execution_count": 12,
     "metadata": {},
     "output_type": "execute_result"
    },
    {
     "data": {
      "text/html": [
       "<html><body><pre>ans = 1x3 double\n",
       "         224           1       28952\n",
       "</pre></body></html>"
      ],
      "text/plain": [
       "ans = 1x3 double\n",
       "         224           1       28952\n"
      ]
     },
     "execution_count": 12,
     "metadata": {},
     "output_type": "execute_result"
    },
    {
     "data": {
      "text/html": [
       "<html><body><pre>ans = 1x2 double\n",
       "         224       28952\n",
       "</pre></body></html>"
      ],
      "text/plain": [
       "ans = 1x2 double\n",
       "         224       28952\n"
      ]
     },
     "execution_count": 12,
     "metadata": {},
     "output_type": "execute_result"
    },
    {
     "data": {
      "text/html": [
       "<html><body><pre>ans = 1x3 double\n",
       "         224           1       28952\n",
       "</pre></body></html>"
      ],
      "text/plain": [
       "ans = 1x3 double\n",
       "         224           1       28952\n"
      ]
     },
     "execution_count": 12,
     "metadata": {},
     "output_type": "execute_result"
    },
    {
     "data": {
      "text/html": [
       "<html><body><pre>ans = 1x2 double\n",
       "         224       28952\n",
       "</pre></body></html>"
      ],
      "text/plain": [
       "ans = 1x2 double\n",
       "         224       28952\n"
      ]
     },
     "execution_count": 12,
     "metadata": {},
     "output_type": "execute_result"
    },
    {
     "data": {
      "text/html": [
       "<html><body><pre>ans = 1x3 double\n",
       "         224           1       28952\n",
       "</pre></body></html>"
      ],
      "text/plain": [
       "ans = 1x3 double\n",
       "         224           1       28952\n"
      ]
     },
     "execution_count": 12,
     "metadata": {},
     "output_type": "execute_result"
    },
    {
     "data": {
      "text/html": [
       "<html><body><pre>ans = 1x2 double\n",
       "         224       28952\n",
       "</pre></body></html>"
      ],
      "text/plain": [
       "ans = 1x2 double\n",
       "         224       28952\n"
      ]
     },
     "execution_count": 12,
     "metadata": {},
     "output_type": "execute_result"
    },
    {
     "data": {
      "text/html": [
       "<html><body><pre>ans = 1x3 double\n",
       "         224           1       28952\n",
       "</pre></body></html>"
      ],
      "text/plain": [
       "ans = 1x3 double\n",
       "         224           1       28952\n"
      ]
     },
     "execution_count": 12,
     "metadata": {},
     "output_type": "execute_result"
    },
    {
     "data": {
      "text/html": [
       "<html><body><pre>ans = 1x2 double\n",
       "         224       28952\n",
       "</pre></body></html>"
      ],
      "text/plain": [
       "ans = 1x2 double\n",
       "         224       28952\n"
      ]
     },
     "execution_count": 12,
     "metadata": {},
     "output_type": "execute_result"
    },
    {
     "data": {
      "text/html": [
       "<html><body><pre>ans = 1x3 double\n",
       "         224           1       28952\n",
       "</pre></body></html>"
      ],
      "text/plain": [
       "ans = 1x3 double\n",
       "         224           1       28952\n"
      ]
     },
     "execution_count": 12,
     "metadata": {},
     "output_type": "execute_result"
    },
    {
     "data": {
      "text/html": [
       "<html><body><pre>ans = 1x2 double\n",
       "         224       28952\n",
       "</pre></body></html>"
      ],
      "text/plain": [
       "ans = 1x2 double\n",
       "         224       28952\n"
      ]
     },
     "execution_count": 12,
     "metadata": {},
     "output_type": "execute_result"
    },
    {
     "data": {
      "text/html": [
       "<html><body><pre>ans = 1x3 double\n",
       "         224           1       28952\n",
       "</pre></body></html>"
      ],
      "text/plain": [
       "ans = 1x3 double\n",
       "         224           1       28952\n"
      ]
     },
     "execution_count": 12,
     "metadata": {},
     "output_type": "execute_result"
    },
    {
     "data": {
      "text/html": [
       "<html><body><pre>ans = 1x2 double\n",
       "         224       28952\n",
       "</pre></body></html>"
      ],
      "text/plain": [
       "ans = 1x2 double\n",
       "         224       28952\n"
      ]
     },
     "execution_count": 12,
     "metadata": {},
     "output_type": "execute_result"
    },
    {
     "data": {
      "text/html": [
       "<html><body><pre>ans = 1x3 double\n",
       "         224           1       28952\n",
       "</pre></body></html>"
      ],
      "text/plain": [
       "ans = 1x3 double\n",
       "         224           1       28952\n"
      ]
     },
     "execution_count": 12,
     "metadata": {},
     "output_type": "execute_result"
    },
    {
     "data": {
      "text/html": [
       "<html><body><pre>ans = 1x2 double\n",
       "         224       28952\n",
       "</pre></body></html>"
      ],
      "text/plain": [
       "ans = 1x2 double\n",
       "         224       28952\n"
      ]
     },
     "execution_count": 12,
     "metadata": {},
     "output_type": "execute_result"
    },
    {
     "data": {
      "text/html": [
       "<html><body><pre>ans = 1x3 double\n",
       "         224           1       28952\n",
       "</pre></body></html>"
      ],
      "text/plain": [
       "ans = 1x3 double\n",
       "         224           1       28952\n"
      ]
     },
     "execution_count": 12,
     "metadata": {},
     "output_type": "execute_result"
    },
    {
     "data": {
      "text/html": [
       "<html><body><pre>ans = 1x2 double\n",
       "         224       28952\n",
       "</pre></body></html>"
      ],
      "text/plain": [
       "ans = 1x2 double\n",
       "         224       28952\n"
      ]
     },
     "execution_count": 12,
     "metadata": {},
     "output_type": "execute_result"
    },
    {
     "data": {
      "text/html": [
       "<html><body><pre>ans = 1x3 double\n",
       "         224           1       28952\n",
       "</pre></body></html>"
      ],
      "text/plain": [
       "ans = 1x3 double\n",
       "         224           1       28952\n"
      ]
     },
     "execution_count": 12,
     "metadata": {},
     "output_type": "execute_result"
    },
    {
     "data": {
      "text/html": [
       "<html><body><pre>ans = 1x2 double\n",
       "         224       28952\n",
       "</pre></body></html>"
      ],
      "text/plain": [
       "ans = 1x2 double\n",
       "         224       28952\n"
      ]
     },
     "execution_count": 12,
     "metadata": {},
     "output_type": "execute_result"
    },
    {
     "data": {
      "text/html": [
       "<html><body><pre>ans = 1x3 double\n",
       "         224           1       28952\n",
       "</pre></body></html>"
      ],
      "text/plain": [
       "ans = 1x3 double\n",
       "         224           1       28952\n"
      ]
     },
     "execution_count": 12,
     "metadata": {},
     "output_type": "execute_result"
    },
    {
     "data": {
      "text/html": [
       "<html><body><pre>ans = 1x2 double\n",
       "         224       28952\n",
       "</pre></body></html>"
      ],
      "text/plain": [
       "ans = 1x2 double\n",
       "         224       28952\n"
      ]
     },
     "execution_count": 12,
     "metadata": {},
     "output_type": "execute_result"
    },
    {
     "data": {
      "text/html": [
       "<html><body><pre>ans = 1x3 double\n",
       "         224           1       28952\n",
       "</pre></body></html>"
      ],
      "text/plain": [
       "ans = 1x3 double\n",
       "         224           1       28952\n"
      ]
     },
     "execution_count": 12,
     "metadata": {},
     "output_type": "execute_result"
    },
    {
     "data": {
      "text/html": [
       "<html><body><pre>ans = 1x2 double\n",
       "         224       28952\n",
       "</pre></body></html>"
      ],
      "text/plain": [
       "ans = 1x2 double\n",
       "         224       28952\n"
      ]
     },
     "execution_count": 12,
     "metadata": {},
     "output_type": "execute_result"
    },
    {
     "data": {
      "text/html": [
       "<html><body><pre>ans = 1x3 double\n",
       "         224           1       28952\n",
       "</pre></body></html>"
      ],
      "text/plain": [
       "ans = 1x3 double\n",
       "         224           1       28952\n"
      ]
     },
     "execution_count": 12,
     "metadata": {},
     "output_type": "execute_result"
    },
    {
     "data": {
      "text/html": [
       "<html><body><pre>ans = 1x2 double\n",
       "         224       28952\n",
       "</pre></body></html>"
      ],
      "text/plain": [
       "ans = 1x2 double\n",
       "         224       28952\n"
      ]
     },
     "execution_count": 12,
     "metadata": {},
     "output_type": "execute_result"
    },
    {
     "data": {
      "text/html": [
       "<html><body><pre>ans = 1x3 double\n",
       "         224           1       28952\n",
       "</pre></body></html>"
      ],
      "text/plain": [
       "ans = 1x3 double\n",
       "         224           1       28952\n"
      ]
     },
     "execution_count": 12,
     "metadata": {},
     "output_type": "execute_result"
    },
    {
     "data": {
      "text/html": [
       "<html><body><pre>ans = 1x2 double\n",
       "         224       28952\n",
       "</pre></body></html>"
      ],
      "text/plain": [
       "ans = 1x2 double\n",
       "         224       28952\n"
      ]
     },
     "execution_count": 12,
     "metadata": {},
     "output_type": "execute_result"
    },
    {
     "data": {
      "text/html": [
       "<html><body><pre>ans = 1x3 double\n",
       "         224           1       28952\n",
       "</pre></body></html>"
      ],
      "text/plain": [
       "ans = 1x3 double\n",
       "         224           1       28952\n"
      ]
     },
     "execution_count": 12,
     "metadata": {},
     "output_type": "execute_result"
    },
    {
     "data": {
      "text/html": [
       "<html><body><pre>ans = 1x2 double\n",
       "         224       28952\n",
       "</pre></body></html>"
      ],
      "text/plain": [
       "ans = 1x2 double\n",
       "         224       28952\n"
      ]
     },
     "execution_count": 12,
     "metadata": {},
     "output_type": "execute_result"
    },
    {
     "data": {
      "text/html": [
       "<html><body><pre>ans = 1x3 double\n",
       "         224           1       28952\n",
       "</pre></body></html>"
      ],
      "text/plain": [
       "ans = 1x3 double\n",
       "         224           1       28952\n"
      ]
     },
     "execution_count": 12,
     "metadata": {},
     "output_type": "execute_result"
    },
    {
     "data": {
      "text/html": [
       "<html><body><pre>ans = 1x2 double\n",
       "         224       28952\n",
       "</pre></body></html>"
      ],
      "text/plain": [
       "ans = 1x2 double\n",
       "         224       28952\n"
      ]
     },
     "execution_count": 12,
     "metadata": {},
     "output_type": "execute_result"
    },
    {
     "data": {
      "text/html": [
       "<html><body><pre>ans = 1x3 double\n",
       "         224           1       28952\n",
       "</pre></body></html>"
      ],
      "text/plain": [
       "ans = 1x3 double\n",
       "         224           1       28952\n"
      ]
     },
     "execution_count": 12,
     "metadata": {},
     "output_type": "execute_result"
    },
    {
     "data": {
      "text/html": [
       "<html><body><pre>ans = 1x2 double\n",
       "         224       28952\n",
       "</pre></body></html>"
      ],
      "text/plain": [
       "ans = 1x2 double\n",
       "         224       28952\n"
      ]
     },
     "execution_count": 12,
     "metadata": {},
     "output_type": "execute_result"
    },
    {
     "data": {
      "text/html": [
       "<html><body><pre>ans = 1x3 double\n",
       "         224           1       28952\n",
       "</pre></body></html>"
      ],
      "text/plain": [
       "ans = 1x3 double\n",
       "         224           1       28952\n"
      ]
     },
     "execution_count": 12,
     "metadata": {},
     "output_type": "execute_result"
    },
    {
     "data": {
      "text/html": [
       "<html><body><pre>ans = 1x2 double\n",
       "         224       28952\n",
       "</pre></body></html>"
      ],
      "text/plain": [
       "ans = 1x2 double\n",
       "         224       28952\n"
      ]
     },
     "execution_count": 12,
     "metadata": {},
     "output_type": "execute_result"
    },
    {
     "data": {
      "text/html": [
       "<html><body><pre>ans = 1x3 double\n",
       "         224           1       28952\n",
       "</pre></body></html>"
      ],
      "text/plain": [
       "ans = 1x3 double\n",
       "         224           1       28952\n"
      ]
     },
     "execution_count": 12,
     "metadata": {},
     "output_type": "execute_result"
    },
    {
     "data": {
      "text/html": [
       "<html><body><pre>ans = 1x2 double\n",
       "         224       28952\n",
       "</pre></body></html>"
      ],
      "text/plain": [
       "ans = 1x2 double\n",
       "         224       28952\n"
      ]
     },
     "execution_count": 12,
     "metadata": {},
     "output_type": "execute_result"
    },
    {
     "data": {
      "text/html": [
       "<html><body><pre>ans = 1x3 double\n",
       "         224           1       28952\n",
       "</pre></body></html>"
      ],
      "text/plain": [
       "ans = 1x3 double\n",
       "         224           1       28952\n"
      ]
     },
     "execution_count": 12,
     "metadata": {},
     "output_type": "execute_result"
    },
    {
     "data": {
      "text/html": [
       "<html><body><pre>ans = 1x2 double\n",
       "         224       28952\n",
       "</pre></body></html>"
      ],
      "text/plain": [
       "ans = 1x2 double\n",
       "         224       28952\n"
      ]
     },
     "execution_count": 12,
     "metadata": {},
     "output_type": "execute_result"
    },
    {
     "data": {
      "text/html": [
       "<html><body><pre>ans = 1x3 double\n",
       "         224           1       28952\n",
       "</pre></body></html>"
      ],
      "text/plain": [
       "ans = 1x3 double\n",
       "         224           1       28952\n"
      ]
     },
     "execution_count": 12,
     "metadata": {},
     "output_type": "execute_result"
    },
    {
     "data": {
      "text/html": [
       "<html><body><pre>ans = 1x2 double\n",
       "         224       28952\n",
       "</pre></body></html>"
      ],
      "text/plain": [
       "ans = 1x2 double\n",
       "         224       28952\n"
      ]
     },
     "execution_count": 12,
     "metadata": {},
     "output_type": "execute_result"
    },
    {
     "data": {
      "text/html": [
       "<html><body><pre>ans = 1x3 double\n",
       "         224           1       28952\n",
       "</pre></body></html>"
      ],
      "text/plain": [
       "ans = 1x3 double\n",
       "         224           1       28952\n"
      ]
     },
     "execution_count": 12,
     "metadata": {},
     "output_type": "execute_result"
    },
    {
     "data": {
      "text/html": [
       "<html><body><pre>ans = 1x2 double\n",
       "         224       28952\n",
       "</pre></body></html>"
      ],
      "text/plain": [
       "ans = 1x2 double\n",
       "         224       28952\n"
      ]
     },
     "execution_count": 12,
     "metadata": {},
     "output_type": "execute_result"
    },
    {
     "data": {
      "text/html": [
       "<html><body><pre>ans = 1x3 double\n",
       "         224           1       28952\n",
       "</pre></body></html>"
      ],
      "text/plain": [
       "ans = 1x3 double\n",
       "         224           1       28952\n"
      ]
     },
     "execution_count": 12,
     "metadata": {},
     "output_type": "execute_result"
    },
    {
     "data": {
      "text/html": [
       "<html><body><pre>ans = 1x2 double\n",
       "         224       28952\n",
       "</pre></body></html>"
      ],
      "text/plain": [
       "ans = 1x2 double\n",
       "         224       28952\n"
      ]
     },
     "execution_count": 12,
     "metadata": {},
     "output_type": "execute_result"
    },
    {
     "data": {
      "text/html": [
       "<html><body><pre>ans = 1x3 double\n",
       "         224           1       28952\n",
       "</pre></body></html>"
      ],
      "text/plain": [
       "ans = 1x3 double\n",
       "         224           1       28952\n"
      ]
     },
     "execution_count": 12,
     "metadata": {},
     "output_type": "execute_result"
    },
    {
     "data": {
      "text/html": [
       "<html><body><pre>ans = 1x2 double\n",
       "         224       28952\n",
       "</pre></body></html>"
      ],
      "text/plain": [
       "ans = 1x2 double\n",
       "         224       28952\n"
      ]
     },
     "execution_count": 12,
     "metadata": {},
     "output_type": "execute_result"
    },
    {
     "data": {
      "text/html": [
       "<html><body><pre>ans = 1x3 double\n",
       "         224           1       28952\n",
       "</pre></body></html>"
      ],
      "text/plain": [
       "ans = 1x3 double\n",
       "         224           1       28952\n"
      ]
     },
     "execution_count": 12,
     "metadata": {},
     "output_type": "execute_result"
    },
    {
     "data": {
      "text/html": [
       "<html><body><pre>ans = 1x2 double\n",
       "         224       28952\n",
       "</pre></body></html>"
      ],
      "text/plain": [
       "ans = 1x2 double\n",
       "         224       28952\n"
      ]
     },
     "execution_count": 12,
     "metadata": {},
     "output_type": "execute_result"
    },
    {
     "data": {
      "text/html": [
       "<html><body><pre>ans = 1x3 double\n",
       "         224           1       28952\n",
       "</pre></body></html>"
      ],
      "text/plain": [
       "ans = 1x3 double\n",
       "         224           1       28952\n"
      ]
     },
     "execution_count": 12,
     "metadata": {},
     "output_type": "execute_result"
    },
    {
     "data": {
      "text/html": [
       "<html><body><pre>ans = 1x2 double\n",
       "         224       28952\n",
       "</pre></body></html>"
      ],
      "text/plain": [
       "ans = 1x2 double\n",
       "         224       28952\n"
      ]
     },
     "execution_count": 12,
     "metadata": {},
     "output_type": "execute_result"
    },
    {
     "data": {
      "text/html": [
       "<html><body><pre>ans = 1x3 double\n",
       "         224           1       28952\n",
       "</pre></body></html>"
      ],
      "text/plain": [
       "ans = 1x3 double\n",
       "         224           1       28952\n"
      ]
     },
     "execution_count": 12,
     "metadata": {},
     "output_type": "execute_result"
    },
    {
     "data": {
      "text/html": [
       "<html><body><pre>ans = 1x2 double\n",
       "         224       28952\n",
       "</pre></body></html>"
      ],
      "text/plain": [
       "ans = 1x2 double\n",
       "         224       28952\n"
      ]
     },
     "execution_count": 12,
     "metadata": {},
     "output_type": "execute_result"
    },
    {
     "data": {
      "text/html": [
       "<html><body><pre>ans = 1x3 double\n",
       "         224           1       28952\n",
       "</pre></body></html>"
      ],
      "text/plain": [
       "ans = 1x3 double\n",
       "         224           1       28952\n"
      ]
     },
     "execution_count": 12,
     "metadata": {},
     "output_type": "execute_result"
    },
    {
     "data": {
      "text/html": [
       "<html><body><pre>ans = 1x2 double\n",
       "         224       28952\n",
       "</pre></body></html>"
      ],
      "text/plain": [
       "ans = 1x2 double\n",
       "         224       28952\n"
      ]
     },
     "execution_count": 12,
     "metadata": {},
     "output_type": "execute_result"
    },
    {
     "data": {
      "text/html": [
       "<html><body><pre>ans = 1x3 double\n",
       "         224           1       28952\n",
       "</pre></body></html>"
      ],
      "text/plain": [
       "ans = 1x3 double\n",
       "         224           1       28952\n"
      ]
     },
     "execution_count": 12,
     "metadata": {},
     "output_type": "execute_result"
    },
    {
     "data": {
      "text/html": [
       "<html><body><pre>ans = 1x2 double\n",
       "         224       28952\n",
       "</pre></body></html>"
      ],
      "text/plain": [
       "ans = 1x2 double\n",
       "         224       28952\n"
      ]
     },
     "execution_count": 12,
     "metadata": {},
     "output_type": "execute_result"
    },
    {
     "data": {
      "text/html": [
       "<html><body><pre>ans = 1x3 double\n",
       "         224           1       28952\n",
       "</pre></body></html>"
      ],
      "text/plain": [
       "ans = 1x3 double\n",
       "         224           1       28952\n"
      ]
     },
     "execution_count": 12,
     "metadata": {},
     "output_type": "execute_result"
    },
    {
     "data": {
      "text/html": [
       "<html><body><pre>ans = 1x2 double\n",
       "         224       28952\n",
       "</pre></body></html>"
      ],
      "text/plain": [
       "ans = 1x2 double\n",
       "         224       28952\n"
      ]
     },
     "execution_count": 12,
     "metadata": {},
     "output_type": "execute_result"
    },
    {
     "data": {
      "text/html": [
       "<html><body><pre>ans = 1x3 double\n",
       "         224           1       28952\n",
       "</pre></body></html>"
      ],
      "text/plain": [
       "ans = 1x3 double\n",
       "         224           1       28952\n"
      ]
     },
     "execution_count": 12,
     "metadata": {},
     "output_type": "execute_result"
    },
    {
     "data": {
      "text/html": [
       "<html><body><pre>ans = 1x2 double\n",
       "         224       28952\n",
       "</pre></body></html>"
      ],
      "text/plain": [
       "ans = 1x2 double\n",
       "         224       28952\n"
      ]
     },
     "execution_count": 12,
     "metadata": {},
     "output_type": "execute_result"
    },
    {
     "data": {
      "text/html": [
       "<html><body><pre>ans = 1x3 double\n",
       "         224           1       28952\n",
       "</pre></body></html>"
      ],
      "text/plain": [
       "ans = 1x3 double\n",
       "         224           1       28952\n"
      ]
     },
     "execution_count": 12,
     "metadata": {},
     "output_type": "execute_result"
    },
    {
     "data": {
      "text/html": [
       "<html><body><pre>ans = 1x2 double\n",
       "         224       28952\n",
       "</pre></body></html>"
      ],
      "text/plain": [
       "ans = 1x2 double\n",
       "         224       28952\n"
      ]
     },
     "execution_count": 12,
     "metadata": {},
     "output_type": "execute_result"
    }
   ],
   "source": [
    "% load(\"Z:\\home\\mri_fyp\\brain\\raw_data\\raw_data_MID296_TE1750us_TI380ms.mat\")\n",
    "load(\"/rds/general/user/ip620/home/mri_fyp/brain/raw_data/raw_data_MID296_TE1750us_TI380ms.mat\")\n",
    "num_elements = 32;\n",
    "for c = 1:num_elements\n",
    "first_column_elements = raw_data_MID296(:, c, :);\n",
    "size(first_column_elements)\n",
    "first_column_elements = squeeze(first_column_elements);\n",
    "size(first_column_elements)\n",
    "flattened_data = reshape(first_column_elements, 1,[]);\n",
    "save_folder = '/rds/general/user/ip620/home/mri_fyp/brain/sequence/coil_data/TE1750us_TI380ms';\n",
    "% save_folder = 'Z:\\home\\mri_fyp\\brain\\sequence\\coil_data\\TE1750us_TI380ms';\n",
    "filename = fullfile(save_folder, sprintf('coil_%d.mat', c));\n",
    "save(filename, 'flattened_data');\n",
    "end"
   ]
  },
  {
   "cell_type": "code",
   "execution_count": null,
   "id": "37fd2212-0d72-4d23-895a-eabc25c8fb56",
   "metadata": {},
   "outputs": [],
   "source": []
  }
 ],
 "metadata": {
  "kernelspec": {
   "display_name": "MATLAB Kernel",
   "language": "matlab",
   "name": "jupyter_matlab_kernel"
  },
  "language_info": {
   "file_extension": ".m",
   "mimetype": "text/x-matlab",
   "name": "matlab"
  }
 },
 "nbformat": 4,
 "nbformat_minor": 5
}
